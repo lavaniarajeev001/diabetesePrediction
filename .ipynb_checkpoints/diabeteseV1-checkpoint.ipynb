{
 "cells": [
  {
   "cell_type": "code",
   "execution_count": 1,
   "id": "72ca7dfb-bd15-4b82-9dca-4e7658d2d39e",
   "metadata": {},
   "outputs": [
    {
     "name": "stdout",
     "output_type": "stream",
     "text": [
      "Accuracy of our model is: 0.7359307359307359\n",
      "Classification report:\n",
      "               precision    recall  f1-score   support\n",
      "\n",
      "           0       0.80      0.79      0.80       151\n",
      "           1       0.62      0.62      0.62        80\n",
      "\n",
      "    accuracy                           0.74       231\n",
      "   macro avg       0.71      0.71      0.71       231\n",
      "weighted avg       0.74      0.74      0.74       231\n",
      "\n"
     ]
    }
   ],
   "source": [
    "import pandas as pd\n",
    "import numpy as np\n",
    "from sklearn.model_selection import train_test_split\n",
    "from sklearn.preprocessing import StandardScaler\n",
    "from sklearn.linear_model import LogisticRegression\n",
    "from sklearn.metrics import accuracy_score, classification_report\n",
    "import pickle\n",
    "\n",
    "def get_clean_data():\n",
    "    data = pd.read_csv(\"diabetes.csv\")\n",
    "    return data\n",
    "\n",
    "def create_model():\n",
    "    data = get_clean_data()\n",
    "    X = data.drop([\"Outcome\"], axis=1)\n",
    "    y = data[\"Outcome\"]\n",
    "    \n",
    "    scaler = StandardScaler()\n",
    "    X_scaled = scaler.fit_transform(X)\n",
    "    \n",
    "    X_train, X_test, y_train, y_test = train_test_split(X_scaled, y, test_size=0.30, random_state=42)\n",
    "    \n",
    "    model = LogisticRegression()\n",
    "    model.fit(X_train, y_train)\n",
    "    \n",
    "    y_pred = model.predict(X_test)\n",
    "    \n",
    "    print(\"Accuracy of our model is:\", accuracy_score(y_test, y_pred))\n",
    "    print(\"Classification report:\\n\", classification_report(y_test, y_pred))\n",
    "    \n",
    "    return model, scaler\n",
    "\n",
    "def main():\n",
    "    model, scaler = create_model()\n",
    "    with open(\"model.pkl\", \"wb\") as pickle_out:\n",
    "        pickle.dump(model, pickle_out)\n",
    "    with open(\"scaler.pkl\", \"wb\") as scaler_out:\n",
    "        pickle.dump(scaler, scaler_out)\n",
    "\n",
    "if __name__ == \"__main__\":\n",
    "    main()"
   ]
  },
  {
   "cell_type": "code",
   "execution_count": null,
   "id": "a69f67a2",
   "metadata": {},
   "outputs": [],
   "source": []
  }
 ],
 "metadata": {
  "kernelspec": {
   "display_name": "Python 3 (ipykernel)",
   "language": "python",
   "name": "python3"
  },
  "language_info": {
   "codemirror_mode": {
    "name": "ipython",
    "version": 3
   },
   "file_extension": ".py",
   "mimetype": "text/x-python",
   "name": "python",
   "nbconvert_exporter": "python",
   "pygments_lexer": "ipython3",
   "version": "3.11.7"
  }
 },
 "nbformat": 4,
 "nbformat_minor": 5
}
